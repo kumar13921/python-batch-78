{
 "cells": [
  {
   "cell_type": "code",
   "execution_count": 6,
   "id": "f0d7619d",
   "metadata": {},
   "outputs": [
    {
     "name": "stdout",
     "output_type": "stream",
     "text": [
      "['duke', 'pulser', 'ns200', 'hayabusa', 'yamaha', 'suzuki', 'tvs', 'ktm']\n"
     ]
    },
    {
     "data": {
      "text/plain": [
       "list"
      ]
     },
     "execution_count": 6,
     "metadata": {},
     "output_type": "execute_result"
    }
   ],
   "source": [
    "bikes=['duke','pulser','ns200','hayabusa','yamaha','suzuki','tvs','ktm']\n",
    "print(bikes)\n",
    "type(bikes)"
   ]
  },
  {
   "cell_type": "code",
   "execution_count": 8,
   "id": "1df1b77d",
   "metadata": {},
   "outputs": [
    {
     "name": "stdout",
     "output_type": "stream",
     "text": [
      "['duke', 'hayabusa', 'ktm', 'ns200', 'pulser', 'suzuki', 'tvs', 'yamaha']\n"
     ]
    }
   ],
   "source": [
    "print(sorted(bikes))"
   ]
  },
  {
   "cell_type": "code",
   "execution_count": 9,
   "id": "e663e317",
   "metadata": {},
   "outputs": [
    {
     "name": "stdout",
     "output_type": "stream",
     "text": [
      "['duke', 'pulser', 'ns200', 'hayabusa', 'yamaha', 'suzuki', 'tvs', 'ktm', 'hornet']\n"
     ]
    }
   ],
   "source": [
    "bikes.append('hornet')\n",
    "print(bikes)"
   ]
  },
  {
   "cell_type": "code",
   "execution_count": 10,
   "id": "be00496d",
   "metadata": {},
   "outputs": [
    {
     "name": "stdout",
     "output_type": "stream",
     "text": [
      "['duke', 'hayabusa', 'hornet', 'ktm', 'ns200', 'pulser', 'suzuki', 'tvs', 'yamaha']\n"
     ]
    }
   ],
   "source": [
    "print(sorted(bikes))"
   ]
  },
  {
   "cell_type": "code",
   "execution_count": 11,
   "id": "009c9eac",
   "metadata": {},
   "outputs": [
    {
     "name": "stdout",
     "output_type": "stream",
     "text": [
      "['hornet', 'ktm', 'tvs', 'suzuki', 'yamaha', 'hayabusa', 'ns200', 'pulser', 'duke']\n"
     ]
    }
   ],
   "source": [
    "bikes.reverse()\n",
    "print(bikes)"
   ]
  },
  {
   "cell_type": "code",
   "execution_count": 13,
   "id": "dd705341",
   "metadata": {},
   "outputs": [
    {
     "name": "stdout",
     "output_type": "stream",
     "text": [
      "['hornet', 'ktm', 'tvs', 'suzuki', 'yamaha', 'hayabusa', 'ns200', 'pulser', 'duke']\n"
     ]
    }
   ],
   "source": [
    "bikes.reverse()\n",
    "print(bikes)"
   ]
  },
  {
   "cell_type": "code",
   "execution_count": 14,
   "id": "b8729c4c",
   "metadata": {},
   "outputs": [
    {
     "data": {
      "text/plain": [
       "9"
      ]
     },
     "execution_count": 14,
     "metadata": {},
     "output_type": "execute_result"
    }
   ],
   "source": [
    "len(bikes)"
   ]
  },
  {
   "cell_type": "code",
   "execution_count": 15,
   "id": "6e3a975e",
   "metadata": {},
   "outputs": [
    {
     "name": "stdout",
     "output_type": "stream",
     "text": [
      "['hornet', 'ktm']\n"
     ]
    }
   ],
   "source": [
    "print(bikes[0:2])"
   ]
  },
  {
   "cell_type": "code",
   "execution_count": 16,
   "id": "a3f47284",
   "metadata": {},
   "outputs": [
    {
     "name": "stdout",
     "output_type": "stream",
     "text": [
      "['pulser', 'duke']\n"
     ]
    }
   ],
   "source": [
    "print(bikes[7:9])"
   ]
  },
  {
   "cell_type": "code",
   "execution_count": 17,
   "id": "1280090e",
   "metadata": {},
   "outputs": [
    {
     "name": "stdout",
     "output_type": "stream",
     "text": [
      "['tvs']\n"
     ]
    }
   ],
   "source": [
    "print(bikes[2:3:5])"
   ]
  },
  {
   "cell_type": "code",
   "execution_count": null,
   "id": "3ca1d77a",
   "metadata": {},
   "outputs": [],
   "source": []
  }
 ],
 "metadata": {
  "kernelspec": {
   "display_name": "Python 3 (ipykernel)",
   "language": "python",
   "name": "python3"
  },
  "language_info": {
   "codemirror_mode": {
    "name": "ipython",
    "version": 3
   },
   "file_extension": ".py",
   "mimetype": "text/x-python",
   "name": "python",
   "nbconvert_exporter": "python",
   "pygments_lexer": "ipython3",
   "version": "3.10.9"
  }
 },
 "nbformat": 4,
 "nbformat_minor": 5
}
