{
 "cells": [
  {
   "cell_type": "code",
   "execution_count": 5,
   "id": "df298a25",
   "metadata": {},
   "outputs": [
    {
     "name": "stdout",
     "output_type": "stream",
     "text": [
      "{'colour': 'green', 'points': 5}\n"
     ]
    }
   ],
   "source": [
    "alien={'colour':'green','points':5}\n",
    "print(alien)"
   ]
  },
  {
   "cell_type": "code",
   "execution_count": 8,
   "id": "c64bfda5",
   "metadata": {},
   "outputs": [
    {
     "name": "stdout",
     "output_type": "stream",
     "text": [
      "{'colour': 'blue', 'points': 2}\n"
     ]
    }
   ],
   "source": [
    "alien={'colour':'blue','points':2}\n",
    "print(alien)"
   ]
  },
  {
   "cell_type": "code",
   "execution_count": 9,
   "id": "f8922adf",
   "metadata": {},
   "outputs": [
    {
     "data": {
      "text/plain": [
       "dict"
      ]
     },
     "execution_count": 9,
     "metadata": {},
     "output_type": "execute_result"
    }
   ],
   "source": [
    "type(alien)"
   ]
  },
  {
   "cell_type": "code",
   "execution_count": 11,
   "id": "19aa616f",
   "metadata": {},
   "outputs": [
    {
     "name": "stdout",
     "output_type": "stream",
     "text": [
      "{'colour': 'blue', 'points': 2, 'start_position': 1}\n"
     ]
    }
   ],
   "source": [
    "alien['start_position']=1\n",
    "print(alien)"
   ]
  },
  {
   "cell_type": "code",
   "execution_count": 13,
   "id": "57eda42a",
   "metadata": {},
   "outputs": [
    {
     "name": "stdout",
     "output_type": "stream",
     "text": [
      "{'colour': 'pink', 'points': 2, 'start_position': 1}\n"
     ]
    }
   ],
   "source": [
    "alien['colour']='pink'\n",
    "print(alien)"
   ]
  },
  {
   "cell_type": "code",
   "execution_count": 14,
   "id": "d2c73a50",
   "metadata": {},
   "outputs": [
    {
     "name": "stdout",
     "output_type": "stream",
     "text": [
      "2\n"
     ]
    }
   ],
   "source": [
    "print(alien['points'])"
   ]
  },
  {
   "cell_type": "code",
   "execution_count": 15,
   "id": "5bb66dc5",
   "metadata": {},
   "outputs": [
    {
     "name": "stdout",
     "output_type": "stream",
     "text": [
      "{'colour': 'green', 'points': 5}\n"
     ]
    }
   ],
   "source": [
    "alien={'colour':'green','points':5}\n",
    "print(alien)"
   ]
  },
  {
   "cell_type": "code",
   "execution_count": 16,
   "id": "07e4d36a",
   "metadata": {},
   "outputs": [
    {
     "name": "stdout",
     "output_type": "stream",
     "text": [
      "5\n"
     ]
    }
   ],
   "source": [
    "print(alien['points'])"
   ]
  },
  {
   "cell_type": "code",
   "execution_count": 29,
   "id": "5cc160af",
   "metadata": {},
   "outputs": [
    {
     "name": "stdout",
     "output_type": "stream",
     "text": [
      "{'user_name': 'code_training_acadamy', 'first_name': 'code', 'last_name': 'training', 'dob': '05-06-2001', 'pwd': '54321'}\n"
     ]
    }
   ],
   "source": [
    "user_account={'user_name':'code_training_acadamy','first_name':'code','last_name':'training','dob':'05-06-2001','pwd':'54321'}\n",
    "\n",
    "print(user_account)         "
   ]
  },
  {
   "cell_type": "code",
   "execution_count": 32,
   "id": "c66cdc8d",
   "metadata": {},
   "outputs": [
    {
     "name": "stdout",
     "output_type": "stream",
     "text": [
      "user_name\n",
      "code_training_acadamy\n",
      "first_name\n",
      "code\n",
      "last_name\n",
      "training\n",
      "dob\n",
      "05-06-2001\n",
      "pwd\n",
      "54321\n"
     ]
    }
   ],
   "source": [
    "for a,b in user_account.items():\n",
    "    print(a)\n",
    "    print(b)"
   ]
  },
  {
   "cell_type": "code",
   "execution_count": 33,
   "id": "6cf50683",
   "metadata": {},
   "outputs": [
    {
     "name": "stdout",
     "output_type": "stream",
     "text": [
      "key:user_name\n",
      "key:code_training_acadamy\n",
      "key:first_name\n",
      "key:code\n",
      "key:last_name\n",
      "key:training\n",
      "key:dob\n",
      "key:05-06-2001\n",
      "key:pwd\n",
      "key:54321\n"
     ]
    }
   ],
   "source": [
    "for a,b in user_account.items():\n",
    "    print(f'key:{a}')\n",
    "    print(f'key:{b}')"
   ]
  },
  {
   "cell_type": "code",
   "execution_count": 34,
   "id": "98c3e4b8",
   "metadata": {},
   "outputs": [
    {
     "name": "stdout",
     "output_type": "stream",
     "text": [
      "key:user_name\n",
      "key:code_training_acadamy\n",
      "\n",
      "key:first_name\n",
      "key:code\n",
      "\n",
      "key:last_name\n",
      "key:training\n",
      "\n",
      "key:dob\n",
      "key:05-06-2001\n",
      "\n",
      "key:pwd\n",
      "key:54321\n",
      "\n"
     ]
    }
   ],
   "source": [
    "for a,b in user_account.items():\n",
    "    print(f'key:{a}')\n",
    "    print(f'key:{b}\\n')"
   ]
  },
  {
   "cell_type": "code",
   "execution_count": null,
   "id": "a09fcbaa",
   "metadata": {},
   "outputs": [],
   "source": []
  }
 ],
 "metadata": {
  "kernelspec": {
   "display_name": "Python 3 (ipykernel)",
   "language": "python",
   "name": "python3"
  },
  "language_info": {
   "codemirror_mode": {
    "name": "ipython",
    "version": 3
   },
   "file_extension": ".py",
   "mimetype": "text/x-python",
   "name": "python",
   "nbconvert_exporter": "python",
   "pygments_lexer": "ipython3",
   "version": "3.10.9"
  }
 },
 "nbformat": 4,
 "nbformat_minor": 5
}
