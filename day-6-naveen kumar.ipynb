{
 "cells": [
  {
   "cell_type": "code",
   "execution_count": 4,
   "id": "79e4678a",
   "metadata": {},
   "outputs": [
    {
     "name": "stdout",
     "output_type": "stream",
     "text": [
      "['naveen', 'kumar', 'navya', 'ammu', 'vali', 'balu']\n"
     ]
    }
   ],
   "source": [
    "students=['naveen','kumar','navya','ammu','vali','balu']\n",
    "print(students)\n",
    "#type(students)"
   ]
  },
  {
   "cell_type": "code",
   "execution_count": 5,
   "id": "5955e056",
   "metadata": {},
   "outputs": [
    {
     "name": "stdout",
     "output_type": "stream",
     "text": [
      "keep up the good work,students[0.title()]\n"
     ]
    }
   ],
   "source": [
    "students=['naveen','kumar','navya','ammu','vali','balu']\n",
    "print(f'keep up the good work,students[0.title()]')"
   ]
  },
  {
   "cell_type": "code",
   "execution_count": 6,
   "id": "3d0247a2",
   "metadata": {},
   "outputs": [
    {
     "ename": "SyntaxError",
     "evalue": "invalid syntax (1396288375.py, line 1)",
     "output_type": "error",
     "traceback": [
      "\u001b[1;36m  Cell \u001b[1;32mIn[6], line 1\u001b[1;36m\u001b[0m\n\u001b[1;33m    for x=students:\u001b[0m\n\u001b[1;37m         ^\u001b[0m\n\u001b[1;31mSyntaxError\u001b[0m\u001b[1;31m:\u001b[0m invalid syntax\n"
     ]
    }
   ],
   "source": [
    "for x=students:\n",
    "    print(f'keep up the good work,{x}')"
   ]
  },
  {
   "cell_type": "code",
   "execution_count": 7,
   "id": "e7b0688d",
   "metadata": {},
   "outputs": [
    {
     "name": "stdout",
     "output_type": "stream",
     "text": [
      "keep up the bad work,naveen\n",
      "keep up the bad work,kumar\n",
      "keep up the bad work,navya\n",
      "keep up the bad work,ammu\n",
      "keep up the bad work,vali\n",
      "keep up the bad work,balu\n"
     ]
    }
   ],
   "source": [
    "\n",
    "\n",
    "print(f'keep up the bad work,{x}')\n",
    "for x in students:\n"
   ]
  },
  {
   "cell_type": "code",
   "execution_count": 8,
   "id": "b7b9c982",
   "metadata": {},
   "outputs": [
    {
     "name": "stdout",
     "output_type": "stream",
     "text": [
      "keep the good work,naveen\n",
      "\n",
      "keep the good work,kumar\n",
      "\n",
      "keep the good work,navya\n",
      "\n",
      "keep the good work,ammu\n",
      "\n",
      "keep the good work,vali\n",
      "\n",
      "keep the good work,balu\n",
      "\n"
     ]
    }
   ],
   "source": [
    "for x in students:\n",
    "    print(f'keep the good work,{x}\\n')"
   ]
  },
  {
   "cell_type": "code",
   "execution_count": 9,
   "id": "5296c766",
   "metadata": {},
   "outputs": [
    {
     "name": "stdout",
     "output_type": "stream",
     "text": [
      "keep the good work,naveen\n",
      "do submit your github url to my inbox,naveen\n",
      "\n",
      "keep the good work,kumar\n",
      "do submit your github url to my inbox,kumar\n",
      "\n",
      "keep the good work,navya\n",
      "do submit your github url to my inbox,navya\n",
      "\n",
      "keep the good work,ammu\n",
      "do submit your github url to my inbox,ammu\n",
      "\n",
      "keep the good work,vali\n",
      "do submit your github url to my inbox,vali\n",
      "\n",
      "keep the good work,balu\n",
      "do submit your github url to my inbox,balu\n",
      "\n"
     ]
    }
   ],
   "source": [
    "for x in students:\n",
    "    print(f'keep the good work,{x}')\n",
    "    print(f'do submit your github url to my inbox,{x}\\n')"
   ]
  },
  {
   "cell_type": "code",
   "execution_count": 10,
   "id": "90b64416",
   "metadata": {},
   "outputs": [
    {
     "name": "stdout",
     "output_type": "stream",
     "text": [
      "keep the good work,naveen\n",
      "do submit your github url to my inbox,naveen\n",
      "they are my friends,naveen\n",
      "\n",
      "keep the good work,kumar\n",
      "do submit your github url to my inbox,kumar\n",
      "they are my friends,kumar\n",
      "\n",
      "keep the good work,navya\n",
      "do submit your github url to my inbox,navya\n",
      "they are my friends,navya\n",
      "\n",
      "keep the good work,ammu\n",
      "do submit your github url to my inbox,ammu\n",
      "they are my friends,ammu\n",
      "\n",
      "keep the good work,vali\n",
      "do submit your github url to my inbox,vali\n",
      "they are my friends,vali\n",
      "\n",
      "keep the good work,balu\n",
      "do submit your github url to my inbox,balu\n",
      "they are my friends,balu\n",
      "\n"
     ]
    }
   ],
   "source": [
    "for x in students:\n",
    "    print(f'keep the good work,{x}')\n",
    "    print(f'do submit your github url to my inbox,{x}')\n",
    "    print(f'they are my friends,{x}\\n')"
   ]
  },
  {
   "cell_type": "code",
   "execution_count": 19,
   "id": "37d844bc",
   "metadata": {},
   "outputs": [
    {
     "name": "stdout",
     "output_type": "stream",
     "text": [
      "('vali', 'masthan', 'naveen', 'kumar')\n"
     ]
    }
   ],
   "source": [
    "students=('vali','masthan','naveen','kumar')\n",
    "print(students)"
   ]
  },
  {
   "cell_type": "code",
   "execution_count": 21,
   "id": "a76fe937",
   "metadata": {},
   "outputs": [
    {
     "data": {
      "text/plain": [
       "tuple"
      ]
     },
     "execution_count": 21,
     "metadata": {},
     "output_type": "execute_result"
    }
   ],
   "source": [
    "type(students)"
   ]
  },
  {
   "cell_type": "code",
   "execution_count": 22,
   "id": "0034a94e",
   "metadata": {},
   "outputs": [
    {
     "name": "stdout",
     "output_type": "stream",
     "text": [
      "(20, 50)\n"
     ]
    }
   ],
   "source": [
    "dimensions = (20,50)\n",
    "print(dimensions)"
   ]
  },
  {
   "cell_type": "code",
   "execution_count": 23,
   "id": "a2603898",
   "metadata": {},
   "outputs": [
    {
     "data": {
      "text/plain": [
       "tuple"
      ]
     },
     "execution_count": 23,
     "metadata": {},
     "output_type": "execute_result"
    }
   ],
   "source": [
    "type(dimensions)"
   ]
  },
  {
   "cell_type": "code",
   "execution_count": null,
   "id": "97240b04",
   "metadata": {},
   "outputs": [],
   "source": []
  },
  {
   "cell_type": "code",
   "execution_count": null,
   "id": "6c75d40e",
   "metadata": {},
   "outputs": [],
   "source": []
  },
  {
   "cell_type": "code",
   "execution_count": null,
   "id": "d35f69b8",
   "metadata": {},
   "outputs": [],
   "source": []
  },
  {
   "cell_type": "code",
   "execution_count": null,
   "id": "a59460ee",
   "metadata": {},
   "outputs": [],
   "source": []
  },
  {
   "cell_type": "code",
   "execution_count": null,
   "id": "6fb2eeca",
   "metadata": {},
   "outputs": [],
   "source": []
  },
  {
   "cell_type": "code",
   "execution_count": null,
   "id": "e571a37a",
   "metadata": {},
   "outputs": [],
   "source": []
  }
 ],
 "metadata": {
  "kernelspec": {
   "display_name": "Python 3 (ipykernel)",
   "language": "python",
   "name": "python3"
  },
  "language_info": {
   "codemirror_mode": {
    "name": "ipython",
    "version": 3
   },
   "file_extension": ".py",
   "mimetype": "text/x-python",
   "name": "python",
   "nbconvert_exporter": "python",
   "pygments_lexer": "ipython3",
   "version": "3.10.9"
  }
 },
 "nbformat": 4,
 "nbformat_minor": 5
}
